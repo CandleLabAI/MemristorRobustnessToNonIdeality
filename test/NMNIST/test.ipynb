{
  "nbformat": 4,
  "nbformat_minor": 0,
  "metadata": {
    "colab": {
      "provenance": [],
      "gpuType": "T4"
    },
    "kernelspec": {
      "name": "python3",
      "display_name": "Python 3"
    },
    "language_info": {
      "name": "python"
    },
    "accelerator": "GPU"
  },
  "cells": [
    {
      "cell_type": "code",
      "source": [
        "# !pip install snntorch\n",
        "# !pip install tonic"
      ],
      "metadata": {
        "id": "t3wkFsgnzNKU"
      },
      "execution_count": 7,
      "outputs": []
    },
    {
      "cell_type": "code",
      "source": [
        "import urllib.request\n",
        "import torch, torch.nn as nn\n",
        "import torch.nn.functional as F\n",
        "from torch.utils.data import DataLoader\n",
        "\n",
        "import snntorch as snn\n",
        "from snntorch import surrogate\n",
        "from snntorch import functional as SF\n",
        "\n",
        "import tonic\n",
        "import tonic.transforms as transforms\n",
        "\n",
        "from torch import randn_like"
      ],
      "metadata": {
        "id": "H-Zr-dtxzP-o"
      },
      "execution_count": 8,
      "outputs": []
    },
    {
      "cell_type": "code",
      "source": [
        "sensor_size = tonic.datasets.NMNIST.sensor_size\n",
        "transforms = transforms.Compose([\n",
        "    transforms.Denoise(filter_time=10000),\n",
        "    transforms.ToFrame(sensor_size=sensor_size, n_time_bins=100),\n",
        "    ])"
      ],
      "metadata": {
        "id": "cz5vvF2ZzRPt"
      },
      "execution_count": 9,
      "outputs": []
    },
    {
      "cell_type": "code",
      "source": [
        "data_path = 'data/nmnist' # Directory where NMNIST dataset is stored\n",
        "device = torch.device(\"cuda\") if torch.cuda.is_available() else torch.device(\"cpu\") # Use GPU if available\n",
        "\n",
        "# nmnist_train = tonic.datasets.NMNIST(data_path, train=True, transform=transforms)\n",
        "nmnist_test = tonic.datasets.NMNIST(data_path, train=False, transform=transforms)"
      ],
      "metadata": {
        "id": "jpDV6j5fzVHI"
      },
      "execution_count": 10,
      "outputs": []
    },
    {
      "cell_type": "code",
      "source": [
        "config = {\n",
        "    \"num_epochs\": 100,  # Number of epochs to train for (per trial)\n",
        "    \"batch_size\": 1024,  # Batch size\n",
        "    \"seed\": 0,  # Random seed\n",
        "\n",
        "    # Network parameters\n",
        "    \"batch_norm\": False,  # Whether or not to use batch normalization\n",
        "    \"dropout\": 0.07,  # Dropout rate\n",
        "    \"beta\": 0.97,  # Decay rate parameter (beta)\n",
        "    \"threshold\": 2.5,  # Threshold parameter (theta)\n",
        "    \"lr\": 3.0e-3,  # Initial learning rate\n",
        "    \"slope\": 5.6,  # Slope value (k)\n",
        "\n",
        "    # Fixed params\n",
        "    \"num_steps\": 100,  # Number of timesteps to encode input for\n",
        "    \"correct_rate\": 0.8,  # Correct rate\n",
        "    \"incorrect_rate\": 0.2,  # Incorrect rate\n",
        "    \"betas\": (0.9, 0.999),  # Adam optimizer beta values\n",
        "}"
      ],
      "metadata": {
        "id": "k-OUYtV_zZSK"
      },
      "execution_count": 11,
      "outputs": []
    },
    {
      "cell_type": "code",
      "source": [
        "batch_size = 1024\n",
        "# cached_train = nmnist_train if debug else tonic.DiskCachedDataset(nmnist_train, cache_path='/temp/dvsgesture/train')\n",
        "cached_test = tonic.DiskCachedDataset(nmnist_test, cache_path='/temp/nmnist/test')\n",
        "\n",
        "# trainloader = DataLoader(cached_train, shuffle=True, batch_size=batch_size, collate_fn=tonic.collation.PadTensors(batch_first=False))\n",
        "testloader = DataLoader(cached_test, shuffle=True, batch_size=batch_size, collate_fn=tonic.collation.PadTensors(batch_first=False))\n",
        "# frames, target = next(iter(trainloader))"
      ],
      "metadata": {
        "id": "V2W2cBjhzcEs"
      },
      "execution_count": 12,
      "outputs": []
    },
    {
      "cell_type": "code",
      "source": [
        "class Net(nn.Module):\n",
        "    def __init__(self, config):\n",
        "        super().__init__()\n",
        "        self.thr = config[\"threshold\"]\n",
        "        self.slope = config[\"slope\"]\n",
        "        self.beta = config[\"beta\"]\n",
        "        self.num_steps = config[\"num_steps\"]\n",
        "        self.batch_norm = config[\"batch_norm\"]\n",
        "        self.p1 = config[\"dropout\"]\n",
        "        self.spike_grad = surrogate.fast_sigmoid(self.slope)\n",
        "        # self.init_net()\n",
        "\n",
        "        # Initialize Layers\n",
        "        self.conv1 = nn.Conv2d(2, 16, 5, bias=False)\n",
        "        self.conv1_bn = nn.BatchNorm2d(16)\n",
        "        self.lif1 = snn.Leaky(self.beta, threshold=self.thr, spike_grad=self.spike_grad)\n",
        "        self.conv2 = nn.Conv2d(16, 32, 5, bias=False)\n",
        "        self.conv2_bn = nn.BatchNorm2d(64)\n",
        "        self.lif2 = snn.Leaky(self.beta, threshold=self.thr, spike_grad=self.spike_grad)\n",
        "        self.fc1 = nn.Linear(32 * 5 * 5, 10, bias=False)\n",
        "        self.lif3 = snn.Leaky(self.beta, threshold=self.thr, spike_grad=self.spike_grad)\n",
        "        self.dropout = nn.Dropout(self.p1)\n",
        "\n",
        "    def forward(self, x):\n",
        "        # Initialize hidden states and outputs at t=0\n",
        "        mem1 = self.lif1.init_leaky()\n",
        "        mem2 = self.lif2.init_leaky()\n",
        "        mem3 = self.lif3.init_leaky()\n",
        "\n",
        "        # Record the final layer\n",
        "        spk3_rec = []\n",
        "        mem3_rec = []\n",
        "\n",
        "        for step in range(self.num_steps):\n",
        "            cur1 = F.avg_pool2d(self.conv1(x[step]), 2)\n",
        "            if self.batch_norm:\n",
        "                cur1 = self.conv1_bn(cur1)\n",
        "\n",
        "            spk1, mem1 = self.lif1(cur1, mem1)\n",
        "            cur2 = F.avg_pool2d(self.conv2(spk1), 2)\n",
        "            if self.batch_norm:\n",
        "                cur2 = self.conv2_bn(cur2)\n",
        "\n",
        "            spk2, mem2 = self.lif2(cur2, mem2)\n",
        "            cur3 = self.dropout(self.fc1(spk2.flatten(1)))\n",
        "            spk3, mem3 = self.lif3(cur3, mem3)\n",
        "            spk3_rec.append(spk3)\n",
        "            mem3_rec.append(mem3)\n",
        "\n",
        "        return torch.stack(spk3_rec, dim=0), torch.stack(mem3_rec, dim=0)\n",
        "\n",
        "net = Net(config).to(device)"
      ],
      "metadata": {
        "id": "HJx7lEAQzloE"
      },
      "execution_count": 13,
      "outputs": []
    },
    {
      "cell_type": "code",
      "source": [
        "optimizer = torch.optim.Adam(net.parameters(),\n",
        "    lr=config[\"lr\"], betas=config[\"betas\"]\n",
        ")\n",
        "\n",
        "criterion = SF.mse_count_loss(correct_rate=config[\"correct_rate\"],\n",
        "    incorrect_rate=config[\"incorrect_rate\"]\n",
        ")"
      ],
      "metadata": {
        "id": "iupntlqRzop7"
      },
      "execution_count": 14,
      "outputs": []
    },
    {
      "cell_type": "code",
      "source": [
        "# def train(config, net, trainloader, criterion, optimizer, device=\"cuda\", scheduler=None):\n",
        "#     \"\"\"Complete one epoch of training.\"\"\"\n",
        "\n",
        "#     net.train()\n",
        "#     loss_accum = []\n",
        "#     i = 0\n",
        "#     for data, labels in trainloader:\n",
        "#         data, labels = data.to(device), labels.to(device)\n",
        "#         # print(data.shape)\n",
        "#         spk_rec, _ = net(data.permute(0, 1, 2, 3, 4))\n",
        "#         loss = criterion(spk_rec, labels)\n",
        "#         optimizer.zero_grad()\n",
        "#         loss.backward()\n",
        "\n",
        "#         optimizer.step()\n",
        "#         loss_accum.append(loss.item() / config[\"num_steps\"])\n",
        "\n",
        "#     return loss_accum\n",
        "\n",
        "def test(config, net, testloader, device=\"cuda\"):\n",
        "    \"\"\"Calculate accuracy on full test set.\"\"\"\n",
        "    correct = 0\n",
        "    total = 0\n",
        "    with torch.no_grad():\n",
        "        net.eval()\n",
        "        for data in testloader:\n",
        "            images, labels = data\n",
        "            images, labels = images.to(device), labels.to(device)\n",
        "            outputs, _ = net(images.permute(0, 1, 2, 3, 4))\n",
        "            accuracy = SF.accuracy_rate(outputs, labels)\n",
        "            total += labels.size(0)\n",
        "            correct += accuracy * labels.size(0)\n",
        "\n",
        "    return 100 * correct / total"
      ],
      "metadata": {
        "id": "oGAV0bQ2z0PW"
      },
      "execution_count": 15,
      "outputs": []
    },
    {
      "cell_type": "code",
      "source": [
        "model = Net(config)\n",
        "model.load_state_dict(torch.load(f'nmnist_fp32.pt')) # load the trained model here\n",
        "model.to(device)\n",
        "model.eval()\n",
        "accuracy = test(config, model, testloader, device)\n",
        "print(f\"Original accuracy: {accuracy}\")"
      ],
      "metadata": {
        "id": "01bXFvJNULxf",
        "colab": {
          "base_uri": "https://localhost:8080/"
        },
        "outputId": "0207460f-7782-4e7e-c668-7149e142276c"
      },
      "execution_count": 16,
      "outputs": [
        {
          "output_type": "stream",
          "name": "stderr",
          "text": [
            "<ipython-input-16-925d8981ced3>:2: FutureWarning: You are using `torch.load` with `weights_only=False` (the current default value), which uses the default pickle module implicitly. It is possible to construct malicious pickle data which will execute arbitrary code during unpickling (See https://github.com/pytorch/pytorch/blob/main/SECURITY.md#untrusted-models for more details). In a future release, the default value for `weights_only` will be flipped to `True`. This limits the functions that could be executed during unpickling. Arbitrary objects will no longer be allowed to be loaded via this mode unless they are explicitly allowlisted by the user via `torch.serialization.add_safe_globals`. We recommend you start setting `weights_only=True` for any use case where you don't have full control of the loaded file. Please open an issue on GitHub for any issues related to this experimental feature.\n",
            "  model.load_state_dict(torch.load(f'nmnist_fp32.pt')) # load the trained model here\n"
          ]
        },
        {
          "output_type": "stream",
          "name": "stdout",
          "text": [
            "Original accuracy: 98.05\n"
          ]
        }
      ]
    },
    {
      "cell_type": "markdown",
      "source": [
        "Inference on analog hardware"
      ],
      "metadata": {
        "id": "X4T6HHIb1Qdw"
      }
    },
    {
      "cell_type": "code",
      "source": [
        "# install aihwkit libraries first\n",
        "# !pip install aihwkit\n",
        "\n",
        "# !pip install -q condacolab\n",
        "# import condacolab\n",
        "# condacolab.install()\n",
        "# !conda install -c conda-forge aihwkit-gpu"
      ],
      "metadata": {
        "id": "iiepuow31O74"
      },
      "execution_count": 5,
      "outputs": []
    },
    {
      "cell_type": "code",
      "source": [
        "# import aihwkit libraries here\n",
        "from aihwkit.simulator.configs import (\n",
        "    InferenceRPUConfig,\n",
        ")\n",
        "from aihwkit.inference import PCMLikeNoiseModel, ReRamWan2022NoiseModel, GlobalDriftCompensation\n",
        "\n",
        "rpu_config = InferenceRPUConfig()\n",
        "# rpu_config.noise_model = PCMLikeNoiseModel(g_max=25.0)  # PCM noise model\n",
        "rpu_config.noise_model = ReRamWan2022NoiseModel(g_max=80.0) # RRAM noise model\n",
        "\n",
        "rpu_config.mapping.max_input_size = 256\n",
        "rpu_config.mapping.max_output_size = 256\n",
        "\n",
        "rpu_config.forward.out_noise = 0.04\n",
        "rpu_config.forward.inp_res = 2**8\n",
        "rpu_config.forward.out_res = 2**8\n",
        "# rpu_config.drift_compensation = GlobalDriftCompensation() #Enable only for PCM devices\n",
        "\n",
        "from aihwkit.nn.conversion import convert_to_analog\n",
        "# from aihwkit.simulator.presets import StandardHWATrainingPreset\n",
        "from aihwkit.inference.calibration import (\n",
        "    calibrate_input_ranges,\n",
        "    InputRangeCalibrationType,\n",
        ")\n"
      ],
      "metadata": {
        "id": "3HClxyJo1-HC"
      },
      "execution_count": 18,
      "outputs": []
    },
    {
      "cell_type": "code",
      "source": [
        "# t_inferences = [0.0, 3600.0, 86400.0]  # Times to perform infernece.\n",
        "t_inferences = [1.0, 86400.0, 172800.0]\n",
        "n_reps = 5  # Number of inference repetitions.\n",
        "\n",
        "model = convert_to_analog(model, rpu_config=rpu_config)\n",
        "model.eval() # Determine the inference accuracy with the specified rpu configuration.\n",
        "print(f\"Evaluating imported model number.\")\n",
        "inference_accuracy_values = torch.zeros((len(t_inferences), n_reps))\n",
        "for t_id, t in enumerate(t_inferences):\n",
        "  for i in range(n_reps):\n",
        "    model.drift_analog_weights(t)\n",
        "    accuracy = test(config, model, testloader, device)\n",
        "    inference_accuracy_values[t_id, i] = accuracy\n",
        "  print(\n",
        "      f\"Test set accuracy (%) at t={t}s: mean: {inference_accuracy_values[t_id].mean()}, \\\n",
        "      std: {inference_accuracy_values[t_id].std()}\"\n",
        "      )"
      ],
      "metadata": {
        "colab": {
          "base_uri": "https://localhost:8080/"
        },
        "id": "g4xBdchScWu_",
        "outputId": "0cb9087b-6e1b-49c0-b9e9-1eb8e8c343b3"
      },
      "execution_count": null,
      "outputs": [
        {
          "output_type": "stream",
          "name": "stdout",
          "text": [
            "Evaluating imported model number.\n",
            "Test set accuracy (%) at t=1.0s: mean: 97.32600402832031,       std: 0.1372222900390625\n",
            "Test set accuracy (%) at t=86400.0s: mean: 94.33600616455078,       std: 2.0802712440490723\n"
          ]
        }
      ]
    },
    {
      "cell_type": "code",
      "source": [
        "import numpy as np\n",
        "noise_sd_list = np.array([0.10, 0.20, 0.30, 0.40, 0.50])"
      ],
      "metadata": {
        "id": "nd-VHZqv0AEi"
      },
      "execution_count": null,
      "outputs": []
    },
    {
      "cell_type": "code",
      "source": [
        "# instantiate the RPU(Resistive processing unit)\n",
        "\n",
        "rpu_config = InferenceRPUConfig()\n",
        "rpu_config.noise_model = ReRamWan2022NoiseModel(g_max=80.0)\n",
        "# rpu_config.drift_compensation = GlobalDriftCompensation()"
      ],
      "metadata": {
        "id": "TFt0TY8F2MKL"
      },
      "execution_count": null,
      "outputs": []
    },
    {
      "cell_type": "code",
      "source": [
        "# t_inferences = [0.0, 3600.0, 86400.0]  # Times to perform infernece.\n",
        "t_inferences = [1.0, 86400.0, 172800.0]\n",
        "n_reps = 5  # Number of inference repetitions.\n",
        "\n",
        "# check test accuracy after converting weights to analog with different times.\n",
        "for i in range(len(noise_sd_list)):\n",
        "    model = Net(config)\n",
        "    model.load_state_dict(torch.load(f'nmnist_fp32_' + str(int(noise_sd_list[i]*100)) + '.pt')) # load the trained model here\n",
        "    model.to(device)\n",
        "    accuracy = test(config, model, testloader, device)\n",
        "    print(f\"Original accuracy: {accuracy}\")\n",
        "    model = convert_to_analog(model, rpu_config=rpu_config)\n",
        "    model.eval() # Determine the inference accuracy with the specified rpu configuration.\n",
        "    print(f\"Evaluating imported model number {i}.\")\n",
        "    inference_accuracy_values = torch.zeros((len(t_inferences), n_reps))\n",
        "    for t_id, t in enumerate(t_inferences):\n",
        "        for i in range(n_reps):\n",
        "            model.drift_analog_weights(t)\n",
        "            accuracy = test(config, model, testloader, device)\n",
        "            inference_accuracy_values[t_id, i] = accuracy\n",
        "        print(\n",
        "            f\"Test set accuracy (%) at t={t}s: mean: {inference_accuracy_values[t_id].mean()}, \\\n",
        "            std: {inference_accuracy_values[t_id].std()}\"\n",
        "        )"
      ],
      "metadata": {
        "colab": {
          "base_uri": "https://localhost:8080/"
        },
        "id": "McxDFTfTdSqC",
        "outputId": "a9022b47-585e-46df-8db9-2c34963d59a3"
      },
      "execution_count": null,
      "outputs": [
        {
          "output_type": "stream",
          "name": "stderr",
          "text": [
            "<ipython-input-18-08f5f0c2aa84>:8: FutureWarning: You are using `torch.load` with `weights_only=False` (the current default value), which uses the default pickle module implicitly. It is possible to construct malicious pickle data which will execute arbitrary code during unpickling (See https://github.com/pytorch/pytorch/blob/main/SECURITY.md#untrusted-models for more details). In a future release, the default value for `weights_only` will be flipped to `True`. This limits the functions that could be executed during unpickling. Arbitrary objects will no longer be allowed to be loaded via this mode unless they are explicitly allowlisted by the user via `torch.serialization.add_safe_globals`. We recommend you start setting `weights_only=True` for any use case where you don't have full control of the loaded file. Please open an issue on GitHub for any issues related to this experimental feature.\n",
            "  model.load_state_dict(torch.load(f'nmnist_fp32_' + str(int(noise_sd_list[i]*100)) + '.pt')) # load the trained model here\n"
          ]
        }
      ]
    },
    {
      "cell_type": "code",
      "source": [
        "# t_inferences = [0.0, 3600.0, 86400.0]  # Times to perform infernece.\n",
        "t_inferences = [1.0, 86400.0, 172800.0]\n",
        "n_reps = 5  # Number of inference repetitions.\n",
        "\n",
        "# check test accuracy after converting weights to analog with different times.\n",
        "for i in range(len(noise_sd_list)):\n",
        "    model = Net(config)\n",
        "    model.load_state_dict(torch.load(f'nmnist_fp32_' + str(int(noise_sd_list[i]*100)) + '.pt')) # load the trained model here\n",
        "    model.to(device)\n",
        "    accuracy = test(config, model, testloader, device)\n",
        "    print(f\"Original accuracy: {accuracy}\")\n",
        "    model = convert_to_analog(model, rpu_config=rpu_config)\n",
        "    model.eval() # Determine the inference accuracy with the specified rpu configuration.\n",
        "    print(f\"Evaluating imported model number {i}.\")\n",
        "    inference_accuracy_values = torch.zeros((len(t_inferences), n_reps))\n",
        "    for t_id, t in enumerate(t_inferences):\n",
        "        for i in range(n_reps):\n",
        "            model.drift_analog_weights(t)\n",
        "            accuracy = test(config, model, testloader, device)\n",
        "            inference_accuracy_values[t_id, i] = accuracy\n",
        "        print(\n",
        "            f\"Test set accuracy (%) at t={t}s: mean: {inference_accuracy_values[t_id].mean()}, \\\n",
        "            std: {inference_accuracy_values[t_id].std()}\"\n",
        "        )"
      ],
      "metadata": {
        "id": "Tszk_uDQ_jg3"
      },
      "execution_count": null,
      "outputs": []
    },
    {
      "cell_type": "code",
      "source": [
        "from google.colab import drive\n",
        "drive.mount('/content/drive')"
      ],
      "metadata": {
        "colab": {
          "base_uri": "https://localhost:8080/"
        },
        "id": "eediPeXb3oFw",
        "outputId": "9a070011-6d20-49aa-c883-a7a24ce35f6d"
      },
      "execution_count": 2,
      "outputs": [
        {
          "output_type": "stream",
          "name": "stdout",
          "text": [
            "Mounted at /content/drive\n"
          ]
        }
      ]
    },
    {
      "cell_type": "code",
      "source": [
        "cd /content/drive/MyDrive/Trained\\ Models/SNNs/NMNIST"
      ],
      "metadata": {
        "colab": {
          "base_uri": "https://localhost:8080/"
        },
        "id": "vnGbX-XI4vp2",
        "outputId": "6562020f-dd90-4fe3-edbc-9672a456f572"
      },
      "execution_count": 3,
      "outputs": [
        {
          "output_type": "stream",
          "name": "stdout",
          "text": [
            "/content/drive/MyDrive/Trained Models/SNNs/NMNIST\n"
          ]
        }
      ]
    },
    {
      "cell_type": "code",
      "source": [
        "ls"
      ],
      "metadata": {
        "colab": {
          "base_uri": "https://localhost:8080/"
        },
        "id": "9f4D2IU-5Mh9",
        "outputId": "ba60c1b2-3292-442f-c131-4114495b017f"
      },
      "execution_count": 4,
      "outputs": [
        {
          "output_type": "stream",
          "name": "stdout",
          "text": [
            "AnalogHWInferencesnnTorchNMNISTNoiseAware.ipynb\n",
            "\u001b[0m\u001b[01;34mdata\u001b[0m/\n",
            "nmnist_fp32_10.pt\n",
            "nmnist_fp32_10step.pt\n",
            "nmnist_fp32_20.pt\n",
            "nmnist_fp32_30.pt\n",
            "nmnist_fp32_40.pt\n",
            "nmnist_fp32_50.pt\n",
            "nmnist_fp32_5step.pt\n",
            "nmnist_fp32.pt\n",
            "RRAM_AnalogHWInferencesnnTorchNMNISTNoiseAware.ipynb\n"
          ]
        }
      ]
    },
    {
      "cell_type": "code",
      "source": [
        "# Disconnect once finished\n",
        "from google.colab import runtime\n",
        "runtime.unassign()"
      ],
      "metadata": {
        "id": "k6cbDnabojAo"
      },
      "execution_count": null,
      "outputs": []
    },
    {
      "cell_type": "code",
      "source": [],
      "metadata": {
        "id": "2ncWicpRWRR5"
      },
      "execution_count": null,
      "outputs": []
    }
  ]
}